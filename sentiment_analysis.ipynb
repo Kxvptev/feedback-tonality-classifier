{
 "cells": [
  {
   "cell_type": "code",
   "execution_count": 123,
   "metadata": {},
   "outputs": [],
   "source": [
    "import numpy as np\n",
    "import pandas as pd\n",
    "import pickle as pickle\n",
    "import codecs\n",
    "import requests\n",
    "import bs4\n",
    "import json\n",
    "import warnings\n",
    "import re\n",
    "import os\n",
    "\n",
    "from sklearn.utils import shuffle\n",
    "from tqdm import tqdm\n",
    "from multiprocessing import Pool\n",
    "from sklearn.externals import joblib\n",
    "from sklearn.feature_extraction.text import TfidfVectorizer\n",
    "from nltk.corpus import stopwords"
   ]
  },
  {
   "cell_type": "markdown",
   "metadata": {},
   "source": [
    "Из-за нетипичного для csv-файла формата (по факту это html или же xml) прочитать тестовые данные с помощью pandas.read_csv не получится. Поэтому воспользуемся библиотекой BeautifulSoup"
   ]
  },
  {
   "cell_type": "code",
   "execution_count": 124,
   "metadata": {},
   "outputs": [],
   "source": [
    "with codecs.open('test.csv', 'r') as f:\n",
    "    test_text = f.read()\n",
    "    soup = bs4.BeautifulSoup(test_text, 'html.parser')\n",
    "    test_reviews = soup.findAll('review')\n",
    "    test_list = [test_review.text for test_review in test_reviews]"
   ]
  },
  {
   "cell_type": "code",
   "execution_count": 125,
   "metadata": {},
   "outputs": [],
   "source": [
    "test = pd.DataFrame(test_list, columns=['text'])"
   ]
  },
  {
   "cell_type": "code",
   "execution_count": 126,
   "metadata": {
    "scrolled": true
   },
   "outputs": [
    {
     "data": {
      "text/html": [
       "<div>\n",
       "<style scoped>\n",
       "    .dataframe tbody tr th:only-of-type {\n",
       "        vertical-align: middle;\n",
       "    }\n",
       "\n",
       "    .dataframe tbody tr th {\n",
       "        vertical-align: top;\n",
       "    }\n",
       "\n",
       "    .dataframe thead th {\n",
       "        text-align: right;\n",
       "    }\n",
       "</style>\n",
       "<table border=\"1\" class=\"dataframe\">\n",
       "  <thead>\n",
       "    <tr style=\"text-align: right;\">\n",
       "      <th></th>\n",
       "      <th>text</th>\n",
       "    </tr>\n",
       "  </thead>\n",
       "  <tbody>\n",
       "    <tr>\n",
       "      <th>0</th>\n",
       "      <td>Ужасно слабый аккумулятор, это основной минус ...</td>\n",
       "    </tr>\n",
       "    <tr>\n",
       "      <th>1</th>\n",
       "      <td>ценанадежность-неубиваемостьдолго держит батар...</td>\n",
       "    </tr>\n",
       "    <tr>\n",
       "      <th>2</th>\n",
       "      <td>подробнее в комментариях\\nК сожалению, факт по...</td>\n",
       "    </tr>\n",
       "    <tr>\n",
       "      <th>3</th>\n",
       "      <td>я любительница громкой музыки. Тише телефона у...</td>\n",
       "    </tr>\n",
       "    <tr>\n",
       "      <th>4</th>\n",
       "      <td>Дата выпуска - 2011 г, емкость - 1430 mAh, тех...</td>\n",
       "    </tr>\n",
       "  </tbody>\n",
       "</table>\n",
       "</div>"
      ],
      "text/plain": [
       "                                                text\n",
       "0  Ужасно слабый аккумулятор, это основной минус ...\n",
       "1  ценанадежность-неубиваемостьдолго держит батар...\n",
       "2  подробнее в комментариях\\nК сожалению, факт по...\n",
       "3  я любительница громкой музыки. Тише телефона у...\n",
       "4  Дата выпуска - 2011 г, емкость - 1430 mAh, тех..."
      ]
     },
     "execution_count": 126,
     "metadata": {},
     "output_type": "execute_result"
    }
   ],
   "source": [
    "test.head()"
   ]
  },
  {
   "cell_type": "markdown",
   "metadata": {},
   "source": [
    "Данные для обучающей выборки будем брать на площадке Яндекс.Маркет. Тестовая выборка содержит отзывы на смартфоны, поэтому определиться с необходимым разделом сайта нетрудно."
   ]
  },
  {
   "cell_type": "code",
   "execution_count": 127,
   "metadata": {},
   "outputs": [],
   "source": [
    "def get_mobiles():   \n",
    "    mobile_list = []  \n",
    "    for i in range(1, 11): \n",
    "        url = \"https://market.yandex.ru/catalog--mobilnye-telefony/54726/list\"\n",
    "        params = {\n",
    "            'onstock': 1,\n",
    "            'local-offers-first': 0,\n",
    "            'how': \"opinions\",\n",
    "            'page': i\n",
    "        }\n",
    "        html = requests.get(url, params, headers={'User-Agent': 'Mozilla/5.0'}).text\n",
    "        if html:\n",
    "            soup = bs4.BeautifulSoup(html, 'html.parser')     \n",
    "            mobiles = soup.findAll('div', class_='n-snippet-cell2 i-bem b-zone b-spy-visible n-snippet-cell2_type_product')\n",
    "            for mobile in mobiles:\n",
    "                mobile_link = mobile.find('a', class_='n-snippet-cell2__image link').get('href')\n",
    "                mobile_url = mobile_link.split('?')\n",
    "                if mobile_url[0] not in mobile_list:\n",
    "                    mobile_name = mobile_url[0].split('/')                    \n",
    "                    mobile_list.append({\n",
    "                        'url': mobile_url[0],\n",
    "                        'name': mobile_name[1][18:].capitalize(),\n",
    "                        'id': mobile_name[2]\n",
    "                    }) \n",
    "    return mobile_list"
   ]
  },
  {
   "cell_type": "code",
   "execution_count": 128,
   "metadata": {},
   "outputs": [],
   "source": [
    "def get_reviews(mobile):\n",
    "    for i in range(1, 11):\n",
    "        url = \"https://market.yandex.ru{}/reviews\".format(mobile['url'])\n",
    "        params = {\n",
    "            \"hid\": \"91491\",\n",
    "            'page': i        \n",
    "        }\n",
    "        try:\n",
    "            while True:\n",
    "                html = requests.get(url, params, headers={'User-Agent': 'Mozilla/5.0'}).text\n",
    "                if html:\n",
    "                    soup = bs4.BeautifulSoup(html, 'html.parser')\n",
    "                    reviews = soup.findAll('div', itemprop='review')\n",
    "                    for review in reviews:\n",
    "                        review_text = review.find('meta', itemprop='description').get('content')\n",
    "                        review_rating = int(review.find('meta', itemprop='ratingValue').get('content'))\n",
    "                        with open('data/train.json', 'a') as f:\n",
    "                            json.dump({'text': review_text, 'rating': review_rating}, f, ensure_ascii=False)\n",
    "                            f.write('\\n')\n",
    "                    if len(reviews) > 0:\n",
    "                        break\n",
    "                else:\n",
    "                    print(\"Не удалось загрузить страницу\")\n",
    "\n",
    "        except:\n",
    "            print(\"Сетевая ошибка\")"
   ]
  },
  {
   "cell_type": "code",
   "execution_count": 129,
   "metadata": {},
   "outputs": [
    {
     "data": {
      "text/plain": [
       "0"
      ]
     },
     "execution_count": 129,
     "metadata": {},
     "output_type": "execute_result"
    }
   ],
   "source": [
    "mobiles = get_mobiles()\n",
    "len(mobiles)"
   ]
  },
  {
   "cell_type": "code",
   "execution_count": 130,
   "metadata": {},
   "outputs": [
    {
     "name": "stderr",
     "output_type": "stream",
     "text": [
      "0it [00:00, ?it/s]\n"
     ]
    }
   ],
   "source": [
    "pool = Pool(10)\n",
    "for _ in tqdm(pool.imap(get_reviews, mobiles), total=len(mobiles)):\n",
    "    pass"
   ]
  },
  {
   "cell_type": "code",
   "execution_count": 131,
   "metadata": {},
   "outputs": [],
   "source": [
    "def extract_info(text, label):\n",
    "    try:\n",
    "        if label == 1:\n",
    "            text = re.findall(r'Достоинства(:.*?)Недостатки:', text)[0]\n",
    "        else:\n",
    "            text = re.findall(r'Недостатки(:.*?)Комментарий:', text)[0]\n",
    "        return re.sub(r'\\W', ' ', text)\n",
    "    except:\n",
    "        return text"
   ]
  },
  {
   "cell_type": "code",
   "execution_count": 132,
   "metadata": {},
   "outputs": [],
   "source": [
    "train = pd.read_json('data/train.json', orient='records', lines=True).drop_duplicates()"
   ]
  },
  {
   "cell_type": "code",
   "execution_count": 133,
   "metadata": {},
   "outputs": [],
   "source": [
    "train['label'] = train['rating'].apply(lambda x: int(x == 5))\n",
    "train['length'] = train['text'].apply(lambda x: len(x))\n",
    "train['text'] = train.apply(lambda x: extract_info(x['text'], x['label']), axis=1)"
   ]
  },
  {
   "cell_type": "code",
   "execution_count": 134,
   "metadata": {},
   "outputs": [
    {
     "data": {
      "text/plain": [
       "(5000, 4)"
      ]
     },
     "execution_count": 134,
     "metadata": {},
     "output_type": "execute_result"
    }
   ],
   "source": [
    "train.shape"
   ]
  },
  {
   "cell_type": "code",
   "execution_count": 135,
   "metadata": {},
   "outputs": [
    {
     "data": {
      "text/html": [
       "<div>\n",
       "<style scoped>\n",
       "    .dataframe tbody tr th:only-of-type {\n",
       "        vertical-align: middle;\n",
       "    }\n",
       "\n",
       "    .dataframe tbody tr th {\n",
       "        vertical-align: top;\n",
       "    }\n",
       "\n",
       "    .dataframe thead th {\n",
       "        text-align: right;\n",
       "    }\n",
       "</style>\n",
       "<table border=\"1\" class=\"dataframe\">\n",
       "  <thead>\n",
       "    <tr style=\"text-align: right;\">\n",
       "      <th></th>\n",
       "      <th>rating</th>\n",
       "      <th>text</th>\n",
       "      <th>label</th>\n",
       "      <th>length</th>\n",
       "    </tr>\n",
       "  </thead>\n",
       "  <tbody>\n",
       "    <tr>\n",
       "      <th>0</th>\n",
       "      <td>4</td>\n",
       "      <td>Достоинства: 1) отличный дизайн, мой синий кор...</td>\n",
       "      <td>0</td>\n",
       "      <td>1294</td>\n",
       "    </tr>\n",
       "    <tr>\n",
       "      <th>1</th>\n",
       "      <td>5</td>\n",
       "      <td>Достоинства: Качество связи,сборки.Удобство qw...</td>\n",
       "      <td>1</td>\n",
       "      <td>1321</td>\n",
       "    </tr>\n",
       "    <tr>\n",
       "      <th>2</th>\n",
       "      <td>5</td>\n",
       "      <td>Достоинства: Могу сказать сразу. Телефон шикар...</td>\n",
       "      <td>1</td>\n",
       "      <td>480</td>\n",
       "    </tr>\n",
       "    <tr>\n",
       "      <th>3</th>\n",
       "      <td>5</td>\n",
       "      <td>Достоинства: -качественная сборка -QWERTY-клав...</td>\n",
       "      <td>1</td>\n",
       "      <td>904</td>\n",
       "    </tr>\n",
       "    <tr>\n",
       "      <th>4</th>\n",
       "      <td>5</td>\n",
       "      <td>Достоинства: Купил вчера. во-первых это полная...</td>\n",
       "      <td>1</td>\n",
       "      <td>2639</td>\n",
       "    </tr>\n",
       "  </tbody>\n",
       "</table>\n",
       "</div>"
      ],
      "text/plain": [
       "   rating                                               text  label  length\n",
       "0       4  Достоинства: 1) отличный дизайн, мой синий кор...      0    1294\n",
       "1       5  Достоинства: Качество связи,сборки.Удобство qw...      1    1321\n",
       "2       5  Достоинства: Могу сказать сразу. Телефон шикар...      1     480\n",
       "3       5  Достоинства: -качественная сборка -QWERTY-клав...      1     904\n",
       "4       5  Достоинства: Купил вчера. во-первых это полная...      1    2639"
      ]
     },
     "execution_count": 135,
     "metadata": {},
     "output_type": "execute_result"
    }
   ],
   "source": [
    "train.head()"
   ]
  },
  {
   "cell_type": "code",
   "execution_count": 136,
   "metadata": {},
   "outputs": [],
   "source": [
    "train = shuffle(pd.concat([train[train['label'] == 0], \n",
    "                           train[train['label'] == 1].sort_values('length', ascending=False).head(1680)]), \n",
    "                           random_state=777)"
   ]
  },
  {
   "cell_type": "code",
   "execution_count": 137,
   "metadata": {},
   "outputs": [],
   "source": [
    "X = train['text'].values\n",
    "y = train['label'].values"
   ]
  },
  {
   "cell_type": "code",
   "execution_count": 138,
   "metadata": {},
   "outputs": [],
   "source": [
    "X_test = test['text'].values"
   ]
  },
  {
   "cell_type": "markdown",
   "metadata": {},
   "source": [
    "Будем использовать связку TfidfVectorizer и LinearSVC с подобранными опытным путём параметрами."
   ]
  },
  {
   "cell_type": "code",
   "execution_count": 139,
   "metadata": {},
   "outputs": [
    {
     "data": {
      "text/plain": [
       "TfidfVectorizer(analyzer='word', binary=False, decode_error=u'strict',\n",
       "        dtype=<type 'numpy.float64'>, encoding=u'utf-8', input=u'content',\n",
       "        lowercase=True, max_df=0.98, max_features=None, min_df=10,\n",
       "        ngram_range=(1, 2), norm='l2', preprocessor=None, smooth_idf=True,\n",
       "        stop_words=None, strip_accents=None, sublinear_tf=True,\n",
       "        token_pattern=u'(?u)\\\\b\\\\w\\\\w+\\\\b', tokenizer=None, use_idf=True,\n",
       "        vocabulary=None)"
      ]
     },
     "execution_count": 139,
     "metadata": {},
     "output_type": "execute_result"
    }
   ],
   "source": [
    "vectorizer = TfidfVectorizer(min_df=10, max_df=0.98, ngram_range=(1,2), sublinear_tf=True, analyzer='word', smooth_idf=True, norm='l2')\n",
    "#создадим словарь грам на основе тестовых и тренировочных данных\n",
    "vectorizer.fit(np.concatenate((np.array(X), np.array(X_test))))"
   ]
  },
  {
   "cell_type": "code",
   "execution_count": 140,
   "metadata": {},
   "outputs": [],
   "source": [
    "from sklearn.svm import LinearSVC"
   ]
  },
  {
   "cell_type": "code",
   "execution_count": 141,
   "metadata": {},
   "outputs": [],
   "source": [
    "svc = LinearSVC(penalty='l2', C=0.9, fit_intercept=False, dual=True, tol=0.0001, max_iter=200, loss='hinge')"
   ]
  },
  {
   "cell_type": "code",
   "execution_count": 142,
   "metadata": {},
   "outputs": [],
   "source": [
    "from sklearn.model_selection import cross_val_score"
   ]
  },
  {
   "cell_type": "code",
   "execution_count": 150,
   "metadata": {},
   "outputs": [
    {
     "data": {
      "text/plain": [
       "0.7657738095238095"
      ]
     },
     "execution_count": 150,
     "metadata": {},
     "output_type": "execute_result"
    }
   ],
   "source": [
    "cross_val_score(svc, vectorizer.transform(np.array(X)), y, cv=20).mean()"
   ]
  },
  {
   "cell_type": "code",
   "execution_count": 144,
   "metadata": {},
   "outputs": [],
   "source": [
    "svc.fit(vectorizer.transform(np.array(X)), y)\n",
    "preds = svc.predict(vectorizer.transform(np.array(X_test)))"
   ]
  },
  {
   "cell_type": "code",
   "execution_count": 145,
   "metadata": {},
   "outputs": [],
   "source": [
    "ans = pd.DataFrame({'Id' : np.arange(0, len(preds)), 'y' : np.array(['pos' if x == 1 else 'neg' for x in preds])})"
   ]
  },
  {
   "cell_type": "code",
   "execution_count": 146,
   "metadata": {},
   "outputs": [
    {
     "data": {
      "text/html": [
       "<div>\n",
       "<style scoped>\n",
       "    .dataframe tbody tr th:only-of-type {\n",
       "        vertical-align: middle;\n",
       "    }\n",
       "\n",
       "    .dataframe tbody tr th {\n",
       "        vertical-align: top;\n",
       "    }\n",
       "\n",
       "    .dataframe thead th {\n",
       "        text-align: right;\n",
       "    }\n",
       "</style>\n",
       "<table border=\"1\" class=\"dataframe\">\n",
       "  <thead>\n",
       "    <tr style=\"text-align: right;\">\n",
       "      <th></th>\n",
       "      <th>Id</th>\n",
       "      <th>y</th>\n",
       "    </tr>\n",
       "  </thead>\n",
       "  <tbody>\n",
       "    <tr>\n",
       "      <th>0</th>\n",
       "      <td>0</td>\n",
       "      <td>neg</td>\n",
       "    </tr>\n",
       "    <tr>\n",
       "      <th>1</th>\n",
       "      <td>1</td>\n",
       "      <td>pos</td>\n",
       "    </tr>\n",
       "    <tr>\n",
       "      <th>2</th>\n",
       "      <td>2</td>\n",
       "      <td>neg</td>\n",
       "    </tr>\n",
       "    <tr>\n",
       "      <th>3</th>\n",
       "      <td>3</td>\n",
       "      <td>neg</td>\n",
       "    </tr>\n",
       "    <tr>\n",
       "      <th>4</th>\n",
       "      <td>4</td>\n",
       "      <td>pos</td>\n",
       "    </tr>\n",
       "  </tbody>\n",
       "</table>\n",
       "</div>"
      ],
      "text/plain": [
       "   Id    y\n",
       "0   0  neg\n",
       "1   1  pos\n",
       "2   2  neg\n",
       "3   3  neg\n",
       "4   4  pos"
      ]
     },
     "execution_count": 146,
     "metadata": {},
     "output_type": "execute_result"
    }
   ],
   "source": [
    "ans.head()"
   ]
  },
  {
   "cell_type": "code",
   "execution_count": 147,
   "metadata": {},
   "outputs": [],
   "source": [
    "ans.to_csv('submission.csv', index=False)"
   ]
  },
  {
   "cell_type": "code",
   "execution_count": 148,
   "metadata": {},
   "outputs": [],
   "source": [
    "output = open('model.pkl', 'wb')\n",
    "pickle.dump(svc, output, 2)"
   ]
  },
  {
   "cell_type": "code",
   "execution_count": 151,
   "metadata": {},
   "outputs": [],
   "source": [
    "output = open('vectorizer.pkl', 'wb')\n",
    "pickle.dump(vectorizer, output, 2)"
   ]
  },
  {
   "cell_type": "code",
   "execution_count": null,
   "metadata": {},
   "outputs": [],
   "source": []
  }
 ],
 "metadata": {
  "kernelspec": {
   "display_name": "Python 2",
   "language": "python",
   "name": "python2"
  },
  "language_info": {
   "codemirror_mode": {
    "name": "ipython",
    "version": 2
   },
   "file_extension": ".py",
   "mimetype": "text/x-python",
   "name": "python",
   "nbconvert_exporter": "python",
   "pygments_lexer": "ipython2",
   "version": "2.7.16"
  }
 },
 "nbformat": 4,
 "nbformat_minor": 2
}
